{
 "cells": [
  {
   "cell_type": "code",
   "execution_count": 4,
   "id": "c62eb520",
   "metadata": {},
   "outputs": [],
   "source": [
    "import gwu_nn\n",
    "from gwu_nn.gwu_network import GWUNetwork\n",
    "from gwu_nn.layers import Dense\n",
    "from gwu_nn.activation_layers import Sigmoid\n",
    "\n",
    "from keras.datasets import mnist\n",
    "import numpy as np\n",
    "import pandas as pd\n",
    "import matplotlib.pyplot as plt\n",
    "import inspect\n",
    "from sklearn import preprocessing\n",
    "from sklearn.model_selection import train_test_split"
   ]
  },
  {
   "cell_type": "code",
   "execution_count": 11,
   "id": "bca53ed8",
   "metadata": {},
   "outputs": [
    {
     "name": "stdout",
     "output_type": "stream",
     "text": [
      "Model:\n",
      "Dense - (28, 16)\n",
      "Dense - (16, 1)\n",
      "Sigmoid Activation\n"
     ]
    }
   ],
   "source": [
    "# Setting up basic GWU Network\n",
    "network = GWUNetwork()\n",
    "# network.add(Conv(____))\n",
    "# network.add(MaxPooling(____)\n",
    "# network.add(Conv(____))\n",
    "# network.add(MaxPooling(____))\n",
    "network.add(Dense(16, add_bias=False, activation='relu', input_size=28))\n",
    "network.add(Dense(1, add_bias=False))\n",
    "network.add(Sigmoid())\n",
    "network.compile(loss='log_loss', lr=0.01)\n",
    "\n",
    "print(network)"
   ]
  },
  {
   "cell_type": "code",
   "execution_count": 7,
   "id": "96fe9238",
   "metadata": {},
   "outputs": [
    {
     "name": "stdout",
     "output_type": "stream",
     "text": [
      "Number of Training Images: 60000\n",
      "Number of Testing Images: 10000\n"
     ]
    }
   ],
   "source": []
  }
 ],
 "metadata": {
  "kernelspec": {
   "display_name": "Python 3 (ipykernel)",
   "language": "python",
   "name": "python3"
  },
  "language_info": {
   "codemirror_mode": {
    "name": "ipython",
    "version": 3
   },
   "file_extension": ".py",
   "mimetype": "text/x-python",
   "name": "python",
   "nbconvert_exporter": "python",
   "pygments_lexer": "ipython3",
   "version": "3.9.12"
  }
 },
 "nbformat": 4,
 "nbformat_minor": 5
}
